{
 "cells": [
  {
   "cell_type": "markdown",
   "id": "81d04372",
   "metadata": {},
   "source": [
    "## Arrays\n"
   ]
  },
  {
   "cell_type": "markdown",
   "id": "d8ea406f",
   "metadata": {},
   "source": [
    "- array can store data of same time\n",
    "- unique index\n",
    "- size of array is predefine\n"
   ]
  },
  {
   "cell_type": "markdown",
   "id": "a422f23e",
   "metadata": {},
   "source": [
    "### type of arrays\n",
    "- one dimentional\n",
    "- multi-dimentional"
   ]
  },
  {
   "cell_type": "code",
   "execution_count": 1,
   "id": "beab59d6",
   "metadata": {},
   "outputs": [],
   "source": [
    "from array import *"
   ]
  },
  {
   "cell_type": "code",
   "execution_count": 2,
   "id": "5eedf6c1",
   "metadata": {},
   "outputs": [],
   "source": [
    "arr1 = array('i', [1,2,3,4,5])"
   ]
  },
  {
   "cell_type": "code",
   "execution_count": 3,
   "id": "0bc07a1c",
   "metadata": {},
   "outputs": [
    {
     "data": {
      "text/plain": [
       "array('i', [1, 2, 3, 4, 5])"
      ]
     },
     "execution_count": 3,
     "metadata": {},
     "output_type": "execute_result"
    }
   ],
   "source": [
    "arr1"
   ]
  },
  {
   "cell_type": "code",
   "execution_count": 4,
   "id": "30eeb275",
   "metadata": {},
   "outputs": [
    {
     "data": {
      "text/plain": [
       "array.array"
      ]
     },
     "execution_count": 4,
     "metadata": {},
     "output_type": "execute_result"
    }
   ],
   "source": [
    "type(arr1)"
   ]
  },
  {
   "cell_type": "code",
   "execution_count": 5,
   "id": "dd4ff36d",
   "metadata": {},
   "outputs": [],
   "source": [
    "arr2 = array('d',[1.3,1.5])"
   ]
  },
  {
   "cell_type": "code",
   "execution_count": 6,
   "id": "87eb913c",
   "metadata": {},
   "outputs": [
    {
     "data": {
      "text/plain": [
       "array('d', [1.3, 1.5])"
      ]
     },
     "execution_count": 6,
     "metadata": {},
     "output_type": "execute_result"
    }
   ],
   "source": [
    "arr2"
   ]
  },
  {
   "cell_type": "markdown",
   "id": "299e6619",
   "metadata": {},
   "source": [
    "time complexcity of array here is o(1)"
   ]
  },
  {
   "cell_type": "code",
   "execution_count": 8,
   "id": "07bfda37",
   "metadata": {},
   "outputs": [],
   "source": [
    "arr1.insert(5,7)"
   ]
  },
  {
   "cell_type": "markdown",
   "id": "afb22107",
   "metadata": {},
   "source": [
    "\n"
   ]
  },
  {
   "cell_type": "code",
   "execution_count": 9,
   "id": "ca72f750",
   "metadata": {},
   "outputs": [
    {
     "data": {
      "text/plain": [
       "array('i', [1, 2, 3, 4, 5, 7])"
      ]
     },
     "execution_count": 9,
     "metadata": {},
     "output_type": "execute_result"
    }
   ],
   "source": [
    "arr1"
   ]
  },
  {
   "cell_type": "code",
   "execution_count": 10,
   "id": "a4a2bd60",
   "metadata": {},
   "outputs": [],
   "source": [
    "arr1.insert(0,0)"
   ]
  },
  {
   "cell_type": "code",
   "execution_count": 11,
   "id": "db1db562",
   "metadata": {},
   "outputs": [
    {
     "data": {
      "text/plain": [
       "array('i', [0, 1, 2, 3, 4, 5, 7])"
      ]
     },
     "execution_count": 11,
     "metadata": {},
     "output_type": "execute_result"
    }
   ],
   "source": [
    "arr1"
   ]
  },
  {
   "cell_type": "code",
   "execution_count": 12,
   "id": "71414254",
   "metadata": {},
   "outputs": [],
   "source": [
    "arr1.insert(2,8)"
   ]
  },
  {
   "cell_type": "code",
   "execution_count": 13,
   "id": "4e38c2ed",
   "metadata": {},
   "outputs": [
    {
     "data": {
      "text/plain": [
       "array('i', [0, 1, 8, 2, 3, 4, 5, 7])"
      ]
     },
     "execution_count": 13,
     "metadata": {},
     "output_type": "execute_result"
    }
   ],
   "source": [
    "arr1"
   ]
  },
  {
   "cell_type": "markdown",
   "id": "bc3ddcc1",
   "metadata": {},
   "source": [
    "## array travisal"
   ]
  },
  {
   "cell_type": "code",
   "execution_count": 14,
   "id": "06d73abf",
   "metadata": {},
   "outputs": [
    {
     "name": "stdout",
     "output_type": "stream",
     "text": [
      "0\n",
      "1\n",
      "8\n",
      "2\n",
      "3\n",
      "4\n",
      "5\n",
      "7\n"
     ]
    }
   ],
   "source": [
    "def traversaArray(array):\n",
    "    for i in array:\n",
    "        print(i)\n",
    "traversaArray(arr1)"
   ]
  },
  {
   "cell_type": "markdown",
   "id": "287bc108",
   "metadata": {},
   "source": [
    "def traversaArray(array):\n",
    "    for i in array: o(n)\n",
    "        print(i) o(1)\n",
    "traversaArray(arr1)\n",
    "time-complecity = o(n)"
   ]
  },
  {
   "cell_type": "markdown",
   "id": "04dfa60a",
   "metadata": {},
   "source": [
    "## accessing array element"
   ]
  },
  {
   "cell_type": "code",
   "execution_count": 18,
   "id": "24dede93",
   "metadata": {},
   "outputs": [
    {
     "name": "stdout",
     "output_type": "stream",
     "text": [
      "index is out of range\n"
     ]
    }
   ],
   "source": [
    "def access_element(array, index):\n",
    "    if index >= len(array):\n",
    "        print(\"index is out of range\")\n",
    "    else:\n",
    "        print(array[index])\n",
    "        \n",
    "access_element(arr1,9)"
   ]
  },
  {
   "cell_type": "markdown",
   "id": "6ea495de",
   "metadata": {},
   "source": [
    "# searching element in array"
   ]
  },
  {
   "cell_type": "markdown",
   "id": "bbc6e8f5",
   "metadata": {},
   "source": [
    "- binary search\n",
    "- simple with index\n",
    "- looking every element - time inefficent\n",
    "\n"
   ]
  },
  {
   "cell_type": "code",
   "execution_count": 20,
   "id": "8a119a79",
   "metadata": {},
   "outputs": [
    {
     "data": {
      "text/plain": [
       "'sorry its not present'"
      ]
     },
     "execution_count": 20,
     "metadata": {},
     "output_type": "execute_result"
    }
   ],
   "source": [
    "def search_array_every_element(array, value):\n",
    "    for i in array:\n",
    "        if i == value:\n",
    "            return array.index(value)\n",
    "        else:\n",
    "            continue\n",
    "    return \"sorry its not present\"\n",
    "\n",
    "search_array_every_element(arr1,35)\n",
    "            "
   ]
  },
  {
   "cell_type": "markdown",
   "id": "419b73f7",
   "metadata": {},
   "source": [
    "loop = o(n) and for if o(1) time complexcity is on "
   ]
  },
  {
   "cell_type": "markdown",
   "id": "007f6a74",
   "metadata": {},
   "source": [
    "## deleting an element for an array"
   ]
  },
  {
   "cell_type": "code",
   "execution_count": 21,
   "id": "6f9c0150",
   "metadata": {},
   "outputs": [],
   "source": [
    "arr1.remove(1)"
   ]
  },
  {
   "cell_type": "code",
   "execution_count": 22,
   "id": "66738e83",
   "metadata": {},
   "outputs": [
    {
     "data": {
      "text/plain": [
       "array('i', [0, 8, 2, 3, 4, 5, 7])"
      ]
     },
     "execution_count": 22,
     "metadata": {},
     "output_type": "execute_result"
    }
   ],
   "source": [
    "arr1"
   ]
  },
  {
   "cell_type": "markdown",
   "id": "41b90957",
   "metadata": {},
   "source": [
    "## array oprations"
   ]
  },
  {
   "cell_type": "code",
   "execution_count": 24,
   "id": "cd280ece",
   "metadata": {},
   "outputs": [
    {
     "name": "stdout",
     "output_type": "stream",
     "text": [
      "1\n",
      "2\n",
      "3\n",
      "4\n",
      "5\n"
     ]
    }
   ],
   "source": [
    "# create an array and travese \n",
    "\n",
    "my_array = array('i',[1,2,3,4,5])\n",
    "\n",
    "for i in my_array:\n",
    "    print(i)"
   ]
  },
  {
   "cell_type": "code",
   "execution_count": 26,
   "id": "f391028e",
   "metadata": {},
   "outputs": [
    {
     "data": {
      "text/plain": [
       "1"
      ]
     },
     "execution_count": 26,
     "metadata": {},
     "output_type": "execute_result"
    }
   ],
   "source": [
    "# access indivial elements throgh indexes\n",
    "my_array[0]"
   ]
  },
  {
   "cell_type": "code",
   "execution_count": 27,
   "id": "11096980",
   "metadata": {},
   "outputs": [
    {
     "data": {
      "text/plain": [
       "array('i', [1, 2, 3, 4, 5, 6])"
      ]
     },
     "execution_count": 27,
     "metadata": {},
     "output_type": "execute_result"
    }
   ],
   "source": [
    "# TRY APPEND METHOD append add at the last\n",
    "my_array.append(6)\n",
    "my_array"
   ]
  },
  {
   "cell_type": "code",
   "execution_count": 28,
   "id": "c5634e68",
   "metadata": {},
   "outputs": [],
   "source": [
    "# insert method insert(index, value)\n",
    "my_array.insert(0, 0)"
   ]
  },
  {
   "cell_type": "code",
   "execution_count": 29,
   "id": "774d0abf",
   "metadata": {},
   "outputs": [
    {
     "data": {
      "text/plain": [
       "array('i', [0, 1, 2, 3, 4, 5, 6])"
      ]
     },
     "execution_count": 29,
     "metadata": {},
     "output_type": "execute_result"
    }
   ],
   "source": [
    "my_array"
   ]
  },
  {
   "cell_type": "code",
   "execution_count": 30,
   "id": "59c14c47",
   "metadata": {},
   "outputs": [],
   "source": [
    "# extend python array using extand\n",
    "my_array_new = array('i', [7,8,9])\n",
    "my_array.extend(my_array_new)"
   ]
  },
  {
   "cell_type": "code",
   "execution_count": 32,
   "id": "ebdfe85a",
   "metadata": {},
   "outputs": [
    {
     "data": {
      "text/plain": [
       "array('i', [0, 1, 2, 3, 4, 5, 6, 7, 8, 9, 20, 21, 22])"
      ]
     },
     "execution_count": 32,
     "metadata": {},
     "output_type": "execute_result"
    }
   ],
   "source": [
    "# add items from list into using fromlist()\n",
    "temp_list = [20,21,22]\n",
    "my_array.fromlist(temp_list)\n",
    "my_array"
   ]
  },
  {
   "cell_type": "markdown",
   "id": "86718d6e",
   "metadata": {},
   "source": [
    "## two dimentional array\n"
   ]
  },
  {
   "cell_type": "markdown",
   "id": "69ff55f3",
   "metadata": {},
   "source": [
    "day 1 - 11, 15, 10, 6\n",
    "day 1 - 11, 15, 10, 6\n",
    "day 1 - 11, 15, 10, 6\n",
    "day 1 - 11, 15, 10, 6"
   ]
  },
  {
   "cell_type": "code",
   "execution_count": 33,
   "id": "2bfd0d7d",
   "metadata": {},
   "outputs": [],
   "source": [
    "import numpy as np"
   ]
  },
  {
   "cell_type": "code",
   "execution_count": 34,
   "id": "b7c3cda7",
   "metadata": {},
   "outputs": [],
   "source": [
    "two_d_array = np.array([[11,15,10,6],[1,2,3,4],[45,54,22,32], [12,34,56,43]])"
   ]
  },
  {
   "cell_type": "code",
   "execution_count": 35,
   "id": "d25532e4",
   "metadata": {},
   "outputs": [
    {
     "data": {
      "text/plain": [
       "array([[11, 15, 10,  6],\n",
       "       [ 1,  2,  3,  4],\n",
       "       [45, 54, 22, 32],\n",
       "       [12, 34, 56, 43]])"
      ]
     },
     "execution_count": 35,
     "metadata": {},
     "output_type": "execute_result"
    }
   ],
   "source": [
    "two_d_array"
   ]
  },
  {
   "cell_type": "code",
   "execution_count": 37,
   "id": "9714e222",
   "metadata": {},
   "outputs": [
    {
     "data": {
      "text/plain": [
       "array([[ 1,  2,  3,  4],\n",
       "       [11, 15, 10,  6],\n",
       "       [ 1,  2,  3,  4],\n",
       "       [45, 54, 22, 32],\n",
       "       [12, 34, 56, 43]])"
      ]
     },
     "execution_count": 37,
     "metadata": {},
     "output_type": "execute_result"
    }
   ],
   "source": [
    "# adding coloum\n",
    "# adding row\n",
    "#t-c o(mn)\n",
    "new_two_d_array = np.insert(two_d_array, 0, [[1,2,3,4]], axis=0)\n",
    "new_two_d_array\n"
   ]
  },
  {
   "cell_type": "markdown",
   "id": "c0ae837b",
   "metadata": {},
   "source": [
    "### accessing in two d array"
   ]
  },
  {
   "cell_type": "code",
   "execution_count": 39,
   "id": "adbfc1f0",
   "metadata": {},
   "outputs": [
    {
     "data": {
      "text/plain": [
       "3"
      ]
     },
     "execution_count": 39,
     "metadata": {},
     "output_type": "execute_result"
    }
   ],
   "source": [
    "def access_two_d_array(array, r_index, c_index):\n",
    "    if r_index >= len(array) or c_index >= len(array[0]):\n",
    "        print('index is out of range')\n",
    "    else:\n",
    "        return array[r_index][c_index]\n",
    "    \n",
    "access_two_d_array(two_d_array,1,2)"
   ]
  },
  {
   "cell_type": "code",
   "execution_count": 40,
   "id": "82ec4461",
   "metadata": {},
   "outputs": [
    {
     "data": {
      "text/plain": [
       "array([[11, 15, 10,  6],\n",
       "       [ 1,  2,  3,  4],\n",
       "       [45, 54, 22, 32],\n",
       "       [12, 34, 56, 43]])"
      ]
     },
     "execution_count": 40,
     "metadata": {},
     "output_type": "execute_result"
    }
   ],
   "source": [
    "two_d_array"
   ]
  },
  {
   "cell_type": "code",
   "execution_count": 42,
   "id": "61ac0acc",
   "metadata": {},
   "outputs": [
    {
     "data": {
      "text/plain": [
       "22"
      ]
     },
     "execution_count": 42,
     "metadata": {},
     "output_type": "execute_result"
    }
   ],
   "source": [
    "access_two_d_array(two_d_array,2,2)"
   ]
  },
  {
   "cell_type": "markdown",
   "id": "3798d4e1",
   "metadata": {},
   "source": [
    "# traversel 2-d array"
   ]
  },
  {
   "cell_type": "code",
   "execution_count": 44,
   "id": "c810d157",
   "metadata": {},
   "outputs": [
    {
     "name": "stdout",
     "output_type": "stream",
     "text": [
      "11\n",
      "15\n",
      "10\n",
      "6\n",
      "1\n",
      "2\n",
      "3\n",
      "4\n",
      "45\n",
      "54\n",
      "22\n",
      "32\n",
      "12\n",
      "34\n",
      "56\n",
      "43\n"
     ]
    }
   ],
   "source": [
    "def tre_two_d_arr(array):\n",
    "    for i in array:\n",
    "        for j in i:\n",
    "            print(j)\n",
    "tre_two_d_arr(two_d_array)"
   ]
  },
  {
   "cell_type": "markdown",
   "id": "985be212",
   "metadata": {},
   "source": [
    "## searching in 2-d array\n"
   ]
  },
  {
   "cell_type": "code",
   "execution_count": 47,
   "id": "4a84f6cc",
   "metadata": {},
   "outputs": [
    {
     "data": {
      "text/plain": [
       "' the value is1 2'"
      ]
     },
     "execution_count": 47,
     "metadata": {},
     "output_type": "execute_result"
    }
   ],
   "source": [
    "def search_two_d_array(array,value):\n",
    "    for i in range(len(array)):\n",
    "        for j in range(len(array[0])):\n",
    "            if value == array[i][j]:\n",
    "                \n",
    "                return ' the value is' + str(i)+\" \"+str(j)\n",
    "    return 'sorry'\n",
    "search_two_d_array(two_d_array, 3)"
   ]
  },
  {
   "cell_type": "markdown",
   "id": "ccd87052",
   "metadata": {},
   "source": [
    "\n"
   ]
  },
  {
   "cell_type": "markdown",
   "id": "95d26c83",
   "metadata": {},
   "source": [
    "# python list"
   ]
  },
  {
   "cell_type": "markdown",
   "id": "7e649f2d",
   "metadata": {},
   "source": [
    "### accessing in list"
   ]
  },
  {
   "cell_type": "code",
   "execution_count": 48,
   "id": "0be9d456",
   "metadata": {},
   "outputs": [
    {
     "data": {
      "text/plain": [
       "'milk'"
      ]
     },
     "execution_count": 48,
     "metadata": {},
     "output_type": "execute_result"
    }
   ],
   "source": [
    "s_list = ['milk','row','buttor']\n",
    "s_list[0]"
   ]
  },
  {
   "cell_type": "code",
   "execution_count": 50,
   "id": "c8be9aef",
   "metadata": {},
   "outputs": [],
   "source": [
    "for i in range(len(s_list)):\n",
    "    s_list[i] = s_list[i] + '+'"
   ]
  },
  {
   "cell_type": "code",
   "execution_count": 51,
   "id": "ab4e2400",
   "metadata": {},
   "outputs": [
    {
     "data": {
      "text/plain": [
       "['milk+', 'row+', 'buttor+']"
      ]
     },
     "execution_count": 51,
     "metadata": {},
     "output_type": "execute_result"
    }
   ],
   "source": [
    "s_list"
   ]
  },
  {
   "cell_type": "markdown",
   "id": "dbde09ac",
   "metadata": {},
   "source": [
    "## project 1 avg temprature\n"
   ]
  },
  {
   "cell_type": "code",
   "execution_count": 54,
   "id": "805aecd0",
   "metadata": {},
   "outputs": [
    {
     "name": "stdout",
     "output_type": "stream",
     "text": [
      "how many days temp2\n",
      "day1temp3\n",
      "day2temp3\n"
     ]
    },
    {
     "data": {
      "text/plain": [
       "3.0"
      ]
     },
     "execution_count": 54,
     "metadata": {},
     "output_type": "execute_result"
    }
   ],
   "source": [
    "numDays = int(input('how many days temp'))\n",
    "total = 0\n",
    "for i in range(1, numDays+1):\n",
    "    nextDay = int(input(\"day\" +str(i)+ 'temp'))\n",
    "    total += nextDay\n",
    "avg = round(total/numDays,2)\n",
    "avg"
   ]
  },
  {
   "cell_type": "markdown",
   "id": "50a9ee56",
   "metadata": {},
   "source": [
    "find all pair which is equal to 9"
   ]
  },
  {
   "cell_type": "code",
   "execution_count": 58,
   "id": "5ab4ea0c",
   "metadata": {},
   "outputs": [
    {
     "name": "stdout",
     "output_type": "stream",
     "text": [
      "0 6\n",
      "1 5\n",
      "2 4\n"
     ]
    }
   ],
   "source": [
    "my_list = [2,3,4,5,6,7,8,9]\n",
    "def find_pairs(nums, target):\n",
    "    for i in range(len(nums)):\n",
    "        for j in range(i + 1, len(nums)):\n",
    "            if nums[i] + nums[j] == target:\n",
    "                print(i,j)\n",
    "            \n",
    "find_pairs(my_list,10)"
   ]
  },
  {
   "cell_type": "code",
   "execution_count": 60,
   "id": "18df9aca",
   "metadata": {},
   "outputs": [
    {
     "name": "stdout",
     "output_type": "stream",
     "text": [
      "3\n",
      "12\n"
     ]
    }
   ],
   "source": [
    "myArray = np.array([1,2,3,4,5,6,7,8,9,0,12,34,4])\n",
    "\n",
    "def findNumber(array, target):\n",
    "    for i in range(len(array)):\n",
    "        if array[i] == target:\n",
    "            print(i)\n",
    "findNumber(myArray, 4)"
   ]
  },
  {
   "cell_type": "code",
   "execution_count": 64,
   "id": "0545278a",
   "metadata": {},
   "outputs": [
    {
     "name": "stdout",
     "output_type": "stream",
     "text": [
      "12 34\n",
      "408\n"
     ]
    }
   ],
   "source": [
    "def maxProduct(array):\n",
    "    max_value = 0\n",
    "    for i in range(len(array)):\n",
    "        for j in range(i+1,len(array)):\n",
    "            if array[i] * array[j] > max_value:\n",
    "                max_value = array[i] * array[j]\n",
    "                paris = str(array[i]) + ' '+ str(array[j])\n",
    "    print(paris)\n",
    "    print(max_value)\n",
    "maxProduct(myArray)    "
   ]
  },
  {
   "cell_type": "code",
   "execution_count": 69,
   "id": "d6bada23",
   "metadata": {},
   "outputs": [
    {
     "name": "stdout",
     "output_type": "stream",
     "text": [
      "yes\n"
     ]
    }
   ],
   "source": [
    "myArray = np.array([1,2,3,4,5,6,7,8,9,0,12,34])\n",
    "def unique(array):\n",
    "    for i in range(len(array)):\n",
    "        for j in range(i+1, len(array)):\n",
    "            if array[i] == array[j]:\n",
    "                print('not ')\n",
    "                return\n",
    "    else:\n",
    "        print('yes')\n",
    "unique(myArray)"
   ]
  },
  {
   "cell_type": "code",
   "execution_count": null,
   "id": "f81d4e64",
   "metadata": {},
   "outputs": [],
   "source": [
    "def permutation(list1, list2):\n",
    "    if len(list1) != len(list2):\n",
    "        return False\n",
    "    else:\n",
    "        "
   ]
  },
  {
   "cell_type": "code",
   "execution_count": null,
   "id": "25fd1c70",
   "metadata": {},
   "outputs": [],
   "source": []
  }
 ],
 "metadata": {
  "kernelspec": {
   "display_name": "Python 3 (ipykernel)",
   "language": "python",
   "name": "python3"
  },
  "language_info": {
   "codemirror_mode": {
    "name": "ipython",
    "version": 3
   },
   "file_extension": ".py",
   "mimetype": "text/x-python",
   "name": "python",
   "nbconvert_exporter": "python",
   "pygments_lexer": "ipython3",
   "version": "3.11.4"
  }
 },
 "nbformat": 4,
 "nbformat_minor": 5
}
